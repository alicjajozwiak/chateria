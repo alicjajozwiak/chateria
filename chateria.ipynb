{
  "nbformat": 4,
  "nbformat_minor": 0,
  "metadata": {
    "colab": {
      "provenance": []
    },
    "kernelspec": {
      "name": "python3",
      "display_name": "Python 3"
    },
    "language_info": {
      "name": "python"
    }
  },
  "cells": [
    {
      "cell_type": "code",
      "execution_count": null,
      "metadata": {
        "id": "fnz8TEzjDSnY"
      },
      "outputs": [],
      "source": []
    },
    {
      "cell_type": "markdown",
      "source": [
        "**zadanie 1**\n",
        "\n",
        "Zadania wymagające inteligencji człowieka:\n",
        "\n",
        "\n",
        "*   wypełnianie deklaracji PIT -trzeba myśleć jakie liczby wpisać w jakie miejsca, obliczyć ze zrozumieniem kolejne rzeczy\n",
        "*   streszczanie tekstu -trzeba zrozumieć treść tekstu i inteligentnie wyciągąć z niego najważniejsze rzeczy, sens oraz przetworzyć zdobyte informacje w odpowiedni sposób by efekt końcowy również zawierał te same treści przedstawione w inny sposób\n",
        "*   tłumaczenie tekstu- wymaga od człowieka nie tylko znajomości więcej niż jednego języka, lecz także poprawnego rozumienia wyrażeń językowych, niedosłownych znaczeń\n",
        "*   klasyfikacja tekstu do kategorii tematycznych -niezbędne jest zarówno rozumienie znaczenia danych tekstów i ich kontekstów by móc poprawnie dopasować wyrażenie do ich tematów\n",
        "*   odpowiadanie na proste pytania zadawane w języku naturalnym (np. polskim) -człowiek musi znać język naturalny, rozumieć znaczenie zadawanego pytania, wiedzieć o co jest pytany, dobrac odpowiednio posiadane informacje i udzielić adekwatnej odpowiedzi\n",
        "*   układanie rozkładu jazdy transportu miejskiego -ta czynność wymaga od człowieka dokładnego przemyślenia i zaplanowania godzin, numerów linii kursujących autobusów, tak by ułożony rozkład jazdy był praktyczny i miał sens\n",
        "*   programowanie (pisanie programów komputerowych) -człowiek musi znać zasady języka programowania, wiedzieć jaki ma cel i co ma zrobić oraz stosując posiadane wiadomości i wiedzę wymyśleć kod, który zapewni zamierzony efekt końcowy\n",
        "*   „programowanie” kanałów telewizyjnych -wymaga od człowieka logicznego myślenia, a więc inteligencji\n",
        "*   testowanie oprogramowania -człowiek musi trafnie ocenić czy dane oprogramowanie spełnia jego oczekiwania czy nie\n",
        "*   komponowanie muzyki -wymaga to nie tylko umiejętności muzycznych, lecz zarówno znajomości systemu  zaposu nut\n",
        "*   rozwiązywanie układów równań -trzeba znać zasady matematyczne, umieć je policzyć i stsować zasady logiki\n",
        "*   symboliczne obliczanie pochodnych funkcji -niezbędne jest myślenie matematyczne, które jak najbardziej wymaga nie małej inteligencji\n",
        "*   symboliczne całkowanie funkcji -również niezbędne jest tu zastsowanie praw matematyki wymagające inteligencji\n",
        "*   kierowanie samochodem -wymaga to wielu umiejętności, do których opanowania potrzebne jest integentne myślenie\n",
        "\n",
        "\n",
        "**zadanie 2**\n",
        "\n",
        "Problemy mieszczące się w zakresie sztucznej inteligencji:\n",
        "\n",
        "* streszczanie tekstu -sztuczna inteligencja jest w stanie odczytać sens podanego jej tekstu a następnie go sparafrazować\n",
        "* tłumaczenie tekstu -szt. int. posiada algorytmy, które umożliwiają przekładanie tekstu z jednego języka na drugi zachowując takie samo znaczenie\n",
        "* klasyfikacja tekstu do kategorii tematycznych -jest ona w stanie wyszczególnić konkretne właściwości tesktów a następnie ułożyć je według określonego wzorca, by je pogrupować do poszczególnuch kategorii\n",
        "* odpowiadanie na proste pytania zadane w języku naturalnym -wzorce, na których działa\n",
        "\n"
      ],
      "metadata": {
        "id": "U7s8Q2QDEGsh"
      }
    }
  ]
}